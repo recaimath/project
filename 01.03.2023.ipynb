{
 "cells": [
  {
   "cell_type": "code",
   "execution_count": 1,
   "id": "f9fe2cb6",
   "metadata": {},
   "outputs": [],
   "source": [
    "from platform import python_version"
   ]
  },
  {
   "cell_type": "code",
   "execution_count": 2,
   "id": "eff2a0c4",
   "metadata": {},
   "outputs": [
    {
     "data": {
      "text/plain": [
       "'3.9.13'"
      ]
     },
     "execution_count": 2,
     "metadata": {},
     "output_type": "execute_result"
    }
   ],
   "source": [
    "python_version()"
   ]
  },
  {
   "cell_type": "code",
   "execution_count": 3,
   "id": "6d9e21bc",
   "metadata": {},
   "outputs": [
    {
     "name": "stdout",
     "output_type": "stream",
     "text": [
      "hello world\n"
     ]
    }
   ],
   "source": [
    "# print (\"hello world\");\n",
    "# print (\"hi\")"
   ]
  },
  {
   "cell_type": "code",
   "execution_count": null,
   "id": "b63efdcd",
   "metadata": {},
   "outputs": [],
   "source": [
    "out = (\n",
    "    df['kitchen_features'].str.get_dummies(',').sum()\n",
    "        .rename('Details')\n",
    "        .reset_index(name='count')\n",
    "        .sort_values('count', ascending=False, ignore_index=True)\n",
    ")"
   ]
  },
  {
   "cell_type": "code",
   "execution_count": null,
   "id": "95bf9f14",
   "metadata": {},
   "outputs": [],
   "source": [
    "#df2 = df2.apply(lambda x: pd.to_numeric(x, errors='coerce'))"
   ]
  },
  {
   "cell_type": "code",
   "execution_count": null,
   "id": "7fd1d65b",
   "metadata": {},
   "outputs": [],
   "source": [
    "#df3=df['floor_covering'].str.split(',', expand=True).rename(columns = lambda x: \"floor_c\"+str(x+1))"
   ]
  },
  {
   "cell_type": "code",
   "execution_count": null,
   "id": "57e3b16b",
   "metadata": {},
   "outputs": [],
   "source": [
    "Boxplots are what is known as ‘non-parametric.’ This means they display variation in a data sample without making any assumptions about the data’s distribution"
   ]
  },
  {
   "cell_type": "code",
   "execution_count": null,
   "id": "adf48426",
   "metadata": {},
   "outputs": [],
   "source": [
    "Variation is a measure of how spread out the data is around the center of the data"
   ]
  },
  {
   "cell_type": "code",
   "execution_count": null,
   "id": "417e77a7",
   "metadata": {},
   "outputs": [],
   "source": [
    "A scatterplot (also known as a scattergraph, scattergram, or scatter chart) displays the relationship between two variables on an x- and y-axis"
   ]
  },
  {
   "cell_type": "code",
   "execution_count": null,
   "id": "02cd60a3",
   "metadata": {},
   "outputs": [],
   "source": [
    "#Scatterplots are best used for large datasets where time is not a significant factor\n",
    "#For instance, a simple scatterplot might measure people’s weight against height\n",
    "#However, because other factors affect the data (e.g. people’s weights are also related to their diet)\n",
    "##scatterplots are best for inferring relationships between variables rather than drawing firm conclusions"
   ]
  },
  {
   "cell_type": "code",
   "execution_count": null,
   "id": "dce0924c",
   "metadata": {},
   "outputs": [],
   "source": [
    "Bar charts are a simple but highly effective way of plotting categorical data against discrete values. \n",
    "The heights (or widths) of the bars are in direct proportion to the values they represent. \n",
    "This makes bar charts an excellent way of comparing discrete variables at a glance."
   ]
  },
  {
   "cell_type": "code",
   "execution_count": null,
   "id": "73cf1ab0",
   "metadata": {},
   "outputs": [],
   "source": [
    "Notice the data does not follow a normal distribution. Since the data is skewed"
   ]
  },
  {
   "cell_type": "code",
   "execution_count": null,
   "id": "17d93321",
   "metadata": {},
   "outputs": [],
   "source": [
    "fig = px.box(df, y=”fare_amount”)\n",
    "\n",
    "fig.show()\n",
    "\n",
    "Box plots are useful because they show minimum and maximum values, the median, and the interquartile range of the data. \n",
    "In the chart, the outliers are shown as points which makes them easy to see.\n",
    "\n",
    "As we can see, there are a lot of outliers. That thick line near 0 is the box part of our box plot. \n",
    "Above the box and upper fence are some points showing outliers"
   ]
  },
  {
   "cell_type": "code",
   "execution_count": null,
   "id": "22ec5f90",
   "metadata": {},
   "outputs": [],
   "source": [
    "Since the data doesn’t follow a normal distribution, we will calculate the outlier data points using the statistical method \n",
    "called interquartile range (IQR) instead of using Z-score. Using the IQR, the outlier data points are the ones falling \n",
    "below Q1–1.5 IQR or above Q3 + 1.5 IQR. The Q1 is the 25th percentile and Q3 is the 75th percentile of the dataset, \n",
    "and IQR represents the interquartile range calculated by Q3 minus Q1 (Q3–Q1)."
   ]
  },
  {
   "cell_type": "code",
   "execution_count": null,
   "id": "8bbbc75c",
   "metadata": {},
   "outputs": [],
   "source": [
    "def find_outliers_IQR(df):\n",
    "\n",
    "   q1=df.quantile(0.25)\n",
    "\n",
    "   q3=df.quantile(0.75)\n",
    "\n",
    "   IQR=q3-q1\n",
    "\n",
    "   outliers = df[((df<(q1-1.5*IQR)) | (df>(q3+1.5*IQR)))]\n",
    "\n",
    "   return outliers"
   ]
  },
  {
   "cell_type": "code",
   "execution_count": null,
   "id": "4de48a6b",
   "metadata": {},
   "outputs": [],
   "source": [
    "def drop_outliers_IQR(df):\n",
    "\n",
    "   q1=df.quantile(0.25)\n",
    "\n",
    "   q3=df.quantile(0.75)\n",
    "\n",
    "   IQR=q3-q1\n",
    "\n",
    "   not_outliers = df[~((df<(q1-1.5*IQR)) | (df>(q3+1.5*IQR)))]\n",
    "\n",
    "   outliers_dropped = outliers.dropna().reset_index()\n",
    "\n",
    "   return outliers_dropped"
   ]
  }
 ],
 "metadata": {
  "kernelspec": {
   "display_name": "Python 3 (ipykernel)",
   "language": "python",
   "name": "python3"
  },
  "language_info": {
   "codemirror_mode": {
    "name": "ipython",
    "version": 3
   },
   "file_extension": ".py",
   "mimetype": "text/x-python",
   "name": "python",
   "nbconvert_exporter": "python",
   "pygments_lexer": "ipython3",
   "version": "3.9.13"
  }
 },
 "nbformat": 4,
 "nbformat_minor": 5
}
